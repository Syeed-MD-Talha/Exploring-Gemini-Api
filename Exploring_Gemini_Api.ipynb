{
  "nbformat": 4,
  "nbformat_minor": 0,
  "metadata": {
    "colab": {
      "provenance": []
    },
    "kernelspec": {
      "name": "python3",
      "display_name": "Python 3"
    },
    "language_info": {
      "name": "python"
    }
  },
  "cells": [
    {
      "cell_type": "markdown",
      "source": [
        "Docs: https://ai.google.dev/gemini-api/docs/migrate#python_21"
      ],
      "metadata": {
        "id": "32VIi7DSrgxO"
      }
    },
    {
      "cell_type": "code",
      "execution_count": null,
      "metadata": {
        "colab": {
          "base_uri": "https://localhost:8080/"
        },
        "id": "ENghW3czMqgT",
        "outputId": "48678449-883e-4667-d59c-c576452186c1"
      },
      "outputs": [
        {
          "output_type": "stream",
          "name": "stdout",
          "text": [
            "\u001b[?25l   \u001b[90m━━━━━━━━━━━━━━━━━━━━━━━━━━━━━━━━━━━━━━━━\u001b[0m \u001b[32m0.0/159.7 kB\u001b[0m \u001b[31m?\u001b[0m eta \u001b[36m-:--:--\u001b[0m\r\u001b[2K   \u001b[90m━━━━━━━━━━━━━━━━━━━━━━━━━━━━━━━━━━━━━━━━\u001b[0m \u001b[32m159.7/159.7 kB\u001b[0m \u001b[31m9.2 MB/s\u001b[0m eta \u001b[36m0:00:00\u001b[0m\n",
            "\u001b[?25h"
          ]
        }
      ],
      "source": [
        "!pip install -U -q \"google-genai\""
      ]
    },
    {
      "cell_type": "code",
      "source": [
        "from google import genai\n",
        "\n",
        "client=genai.Client(api_key=\"AIzaSyC\")"
      ],
      "metadata": {
        "id": "iz3km0i9M2IQ"
      },
      "execution_count": null,
      "outputs": []
    },
    {
      "cell_type": "markdown",
      "source": [],
      "metadata": {
        "id": "X8R61SbTrOK3"
      }
    },
    {
      "cell_type": "code",
      "source": [
        "!pip install pillow"
      ],
      "metadata": {
        "colab": {
          "base_uri": "https://localhost:8080/"
        },
        "id": "1CY0VbikOunG",
        "outputId": "7af857de-579c-4d17-91fb-c517f4ee78d2"
      },
      "execution_count": null,
      "outputs": [
        {
          "output_type": "stream",
          "name": "stdout",
          "text": [
            "Requirement already satisfied: pillow in /usr/local/lib/python3.11/dist-packages (11.1.0)\n"
          ]
        }
      ]
    },
    {
      "cell_type": "code",
      "source": [
        "from google import genai\n",
        "from PIL import Image\n",
        "\n",
        "response = client.models.generate_content(\n",
        "    model='gemini-2.0-flash',\n",
        "    contents=[\n",
        "        'Tell me a story based on this image',\n",
        "        Image.open(\"/content/image.png\")\n",
        "    ]\n",
        ")\n",
        "print(response.text)"
      ],
      "metadata": {
        "colab": {
          "base_uri": "https://localhost:8080/"
        },
        "id": "aq63Y-fcOsWe",
        "outputId": "3e74de44-ecb6-422d-fa96-7d5f1154431b"
      },
      "execution_count": null,
      "outputs": [
        {
          "output_type": "stream",
          "name": "stdout",
          "text": [
            "The flickering candle cast long, dancing shadows across the parchment. Old Man Tiberius, his eyes magnified by thick spectacles, painstakingly wrote the word 'napo' in elegant cursive. He paused, a tremor in his hand causing the pen to leave a tiny red splotch just above the 'o'.\n",
            "\n",
            "Napo. The name of his beloved, albeit eccentric, pet snail. Napo was no ordinary snail. He had an insatiable appetite for antique maps and a stubborn belief that he was descended from a noble Roman lineage.\n",
            "\n",
            "Tiberius smiled, a web of wrinkles crinkling around his eyes. He was writing Napo's biography. Not because he thought anyone would read it, but because Napo deserved it. The snail, currently enjoying a late-night snack of a 17th-century sea chart, was snoring softly in his terrarium.\n",
            "\n",
            "The biography was filled with tales of Napo's daring escapades. The time he \"conquered\" the fruit bowl (leaving a trail of slime and indignation in his wake), the grand escape from the garden (that ended rather unceremoniously in a rose bush), and his unwavering belief that the red dot above his head was a sign of his royal bloodline.\n",
            "\n",
            "Tiberius chuckled. He knew Napo was just a snail. But he was *his* snail, a tiny, slimy, map-munching companion who brought a spark of absurdity and joy into his quiet life. And that, he thought, was a story worth telling. The flickering candlelight danced on, illuminating the word 'napo' and the beginning of a tale only a truly loving heart could tell.\n",
            "\n"
          ]
        }
      ]
    },
    {
      "cell_type": "code",
      "source": [
        "from google import genai\n",
        "from google.genai import types\n",
        "\n",
        "\n",
        "def get_current_weather(city: str) -> str:\n",
        "    return \"23C\"\n",
        "\n",
        "response = client.models.generate_content(\n",
        "  model='gemini-2.0-flash',\n",
        "  contents=\"What is the weather like in Boston?\",\n",
        "  config=types.GenerateContentConfig(\n",
        "      tools=[get_current_weather]\n",
        "  ),\n",
        ")\n",
        "\n",
        "\n",
        "print(response.text)"
      ],
      "metadata": {
        "colab": {
          "base_uri": "https://localhost:8080/"
        },
        "id": "U_yM0TZwQsL-",
        "outputId": "2d6d88d4-9c09-4879-e6a1-25735ad9c218"
      },
      "execution_count": null,
      "outputs": [
        {
          "output_type": "stream",
          "name": "stdout",
          "text": [
            "It is 23C in Boston.\n",
            "\n"
          ]
        }
      ]
    },
    {
      "cell_type": "code",
      "source": [
        "from google import genai\n",
        "\n",
        "\n",
        "response = client.models.generate_content(\n",
        "    model='gemini-2.0-flash',\n",
        "    contents='Can you tell me the generic name of Syp. Gavisol medicine?'\n",
        ")\n",
        "print(response.text)\n",
        "\n",
        "print(response.model_dump_json(\n",
        "    exclude_none=True, indent=4))"
      ],
      "metadata": {
        "colab": {
          "base_uri": "https://localhost:8080/"
        },
        "id": "-NrBJ6skN3fV",
        "outputId": "b5fb0d88-49d0-4fd6-9c79-a90902a2afc0"
      },
      "execution_count": null,
      "outputs": [
        {
          "output_type": "stream",
          "name": "stdout",
          "text": [
            "The generic names of the active ingredients in Gaviscon are **alginic acid** and **sodium bicarbonate**. It may also contain **calcium carbonate** or **magnesium carbonate** depending on the specific formulation.\n",
            "\n",
            "It is important to note that Gaviscon is a brand name, and different formulations may exist under the Gaviscon brand in different regions. Always check the label for the active ingredients.\n",
            "\n",
            "{\n",
            "    \"candidates\": [\n",
            "        {\n",
            "            \"content\": {\n",
            "                \"parts\": [\n",
            "                    {\n",
            "                        \"text\": \"The generic names of the active ingredients in Gaviscon are **alginic acid** and **sodium bicarbonate**. It may also contain **calcium carbonate** or **magnesium carbonate** depending on the specific formulation.\\n\\nIt is important to note that Gaviscon is a brand name, and different formulations may exist under the Gaviscon brand in different regions. Always check the label for the active ingredients.\\n\"\n",
            "                    }\n",
            "                ],\n",
            "                \"role\": \"model\"\n",
            "            },\n",
            "            \"finish_reason\": \"STOP\",\n",
            "            \"avg_logprobs\": -0.4883734461772873\n",
            "        }\n",
            "    ],\n",
            "    \"model_version\": \"gemini-2.0-flash\",\n",
            "    \"usage_metadata\": {\n",
            "        \"candidates_token_count\": 83,\n",
            "        \"candidates_tokens_details\": [\n",
            "            {\n",
            "                \"modality\": \"TEXT\",\n",
            "                \"token_count\": 83\n",
            "            }\n",
            "        ],\n",
            "        \"prompt_token_count\": 16,\n",
            "        \"prompt_tokens_details\": [\n",
            "            {\n",
            "                \"modality\": \"TEXT\",\n",
            "                \"token_count\": 16\n",
            "            }\n",
            "        ],\n",
            "        \"total_token_count\": 99\n",
            "    },\n",
            "    \"automatic_function_calling_history\": []\n",
            "}\n"
          ]
        }
      ]
    },
    {
      "cell_type": "code",
      "source": [
        "from google import genai\n",
        "from google.genai import types\n",
        "\n",
        "\n",
        "response = client.models.generate_content(\n",
        "    model='gemini-2.0-flash',\n",
        "    contents='What is the sum of the first 50 prime numbers? Generate and run '\n",
        "            'code for the calculation, and make sure you get all 50.',\n",
        "    config=types.GenerateContentConfig(\n",
        "        tools=[types.Tool(code_execution=types.ToolCodeExecution)],\n",
        "    ),\n",
        ")\n",
        "\n",
        "print(response.text)"
      ],
      "metadata": {
        "colab": {
          "base_uri": "https://localhost:8080/"
        },
        "id": "L5qZiuFCRssl",
        "outputId": "dfc991bc-936b-448e-c1ad-f6956c5ce3b9"
      },
      "execution_count": null,
      "outputs": [
        {
          "output_type": "stream",
          "name": "stderr",
          "text": [
            "WARNING:google_genai.types:Warning: there are non-text parts in the response: ['executable_code', 'code_execution_result'],returning concatenated text result from text parts,check out the non text parts for full response from model.\n"
          ]
        },
        {
          "output_type": "stream",
          "name": "stdout",
          "text": [
            "Okay, I can calculate the sum of the first 50 prime numbers for you. I'll use a Python script to generate the prime numbers and then sum them.\n",
            "\n",
            "The sum of the first 50 prime numbers is 5117.\n",
            "\n"
          ]
        }
      ]
    },
    {
      "cell_type": "markdown",
      "source": [
        "### Google Search"
      ],
      "metadata": {
        "id": "s7y6bbIQvuxs"
      }
    },
    {
      "cell_type": "code",
      "source": [
        "from google import genai\n",
        "from google.genai import types\n",
        "\n",
        "response = client.models.generate_content(\n",
        "    model='gemini-2.0-flash',\n",
        "    contents=[\n",
        "        '''Suppose you are one of the best pharmacist in Bangladesh. You have the knowledge of all medicine name.  Now i have given you medicine prescription you have to give me the list of medicine written in the prescription. You need to search on google to check the validity of each medicine you have predict.\n",
        "*** Important note:  Suppose you predict  a medicine name \"Papa\" after that you search on google and found the medicine exist as \"Napa\". so you have to change your decision and choose Napa.  (Always choose the result of MedEx because it's a bangladeshi site) \"\n",
        "output format should like this:\n",
        "Medicine names:\n",
        "--\n",
        "--''',\n",
        "        Image.open(\"/content/4.jpg.jpg\")\n",
        "    ],\n",
        "    config=types.GenerateContentConfig(\n",
        "        tools=[\n",
        "            types.Tool(\n",
        "                google_search=types.GoogleSearch()\n",
        "            )\n",
        "        ]\n",
        "    )\n",
        ")\n",
        "\n",
        "print(response.text)"
      ],
      "metadata": {
        "colab": {
          "base_uri": "https://localhost:8080/"
        },
        "id": "cVrgEc43Srbc",
        "outputId": "c9f79f83-ae68-4271-c163-d939f170fdb6"
      },
      "execution_count": null,
      "outputs": [
        {
          "output_type": "stream",
          "name": "stdout",
          "text": [
            "Okay, I will analyze the prescription and provide you with a list of the medicines, verifying their names using online searches focusing on Bangladeshi sources like MedEx.\n",
            "\n",
            "Medicine names:\n",
            "*   Tab. Dimeral (80mg)\n",
            "*   Tab. Emjenta (5/10)\n",
            "*   Tab. Amlovand (5mg)\n",
            "*   Tab. Olmecan (20mg)\n",
            "*   Tab. Rosutin (5mg)\n",
            "*   Tab. Neuro B\n",
            "*   Tab. Calbonas D\n",
            "\n",
            "Okay, I have checked the validity of each medicine you have predicted using google search and MedEx website. Here is the final list of medicines with some corrections:\n",
            "\n",
            "Medicine names:\n",
            "\n",
            "*   Tab. Dimerol (80mg): Dimerol 80mg tablet is available in Bangladesh.\n",
            "*   Tab. Emjenta (5/10): It seems there's a slight confusion in the dose. \"Emjenta\" is available as a combination medicine containing Empagliflozin and Linagliptin. It is available in two strengths Emjenta 10 mg+5 mg and Emjenta 25 mg+5 mg\n",
            "*   Tab. Amlovas (5mg): It seems there is a slight spelling mistake in the name. Amlodipine is present as Amlovas 5mg tablet.\n",
            "*   Tab. Olmecan (20mg): It seems there is a slight spelling mistake in the name. Olmesartan Medoxomil is present as Olmecan 20mg tablet.\n",
            "*   Tab. Rosutin (5mg): Rosutin 5mg tablet is available in Bangladesh.\n",
            "*   Tab. Neuro B: Neuro B tablet is available in Bangladesh.\n",
            "*   Tab. Calbon D: Calbon D tablet is available in Bangladesh.\n",
            "\n"
          ]
        }
      ]
    },
    {
      "cell_type": "markdown",
      "source": [
        "### Json Response"
      ],
      "metadata": {
        "id": "6F-3nc4ovxUd"
      }
    },
    {
      "cell_type": "code",
      "source": [
        "from google import genai\n",
        "from pydantic import BaseModel\n",
        "\n",
        "\n",
        "class CountryInfo(BaseModel):\n",
        "    name: str\n",
        "    population: int\n",
        "    capital: str\n",
        "    continent: str\n",
        "    major_cities: list[str]\n",
        "    gdp: int\n",
        "    official_language: str\n",
        "    total_area_sq_mi: int\n",
        "\n",
        "response = client.models.generate_content(\n",
        "    model='gemini-2.0-flash',\n",
        "    contents='Give me information of the United States.',\n",
        "    config={\n",
        "        'response_mime_type': 'application/json',\n",
        "        'response_schema': CountryInfo,\n",
        "    },\n",
        ")\n",
        "\n",
        "print(response.text)"
      ],
      "metadata": {
        "colab": {
          "base_uri": "https://localhost:8080/"
        },
        "id": "C-eDPEarSrY-",
        "outputId": "5d68e37f-b8b5-4544-a5ab-c5d7317c4926"
      },
      "execution_count": null,
      "outputs": [
        {
          "output_type": "stream",
          "name": "stdout",
          "text": [
            "{\n",
            "  \"name\": \"United States\",\n",
            "  \"population\": 331002651,\n",
            "  \"capital\": \"Washington, D.C.\",\n",
            "  \"continent\": \"North America\",\n",
            "  \"major_cities\": [\"New York\", \"Los Angeles\", \"Chicago\", \"Houston\", \"Phoenix\"],\n",
            "  \"gdp\": 23000000000000,\n",
            "  \"official_language\": \"English\",\n",
            "  \"total_area_sq_mi\": 3797000\n",
            "}\n"
          ]
        }
      ]
    },
    {
      "cell_type": "code",
      "source": [
        "from google import genai\n",
        "\n",
        "response = client.models.count_tokens(\n",
        "    model='gemini-2.0-flash',\n",
        "    contents='The quick brown fox jumps over the lazy dog.',\n",
        ")\n",
        "\n",
        "print(response.total_tokens)"
      ],
      "metadata": {
        "colab": {
          "base_uri": "https://localhost:8080/"
        },
        "id": "V3u-e_w3-MyH",
        "outputId": "ddda52ab-33fb-4874-ea35-3dcf1043d2d3"
      },
      "execution_count": null,
      "outputs": [
        {
          "output_type": "stream",
          "name": "stdout",
          "text": [
            "11\n"
          ]
        }
      ]
    },
    {
      "cell_type": "code",
      "source": [],
      "metadata": {
        "id": "aQMjGHVO-MtI"
      },
      "execution_count": null,
      "outputs": []
    }
  ]
}
